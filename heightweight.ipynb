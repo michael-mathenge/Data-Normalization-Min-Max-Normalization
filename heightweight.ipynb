{
 "cells": [
  {
   "cell_type": "code",
   "execution_count": 1,
   "id": "initial_id",
   "metadata": {
    "collapsed": true,
    "ExecuteTime": {
     "end_time": "2024-02-14T12:59:34.147338300Z",
     "start_time": "2024-02-14T12:59:31.913906500Z"
    }
   },
   "outputs": [],
   "source": [
    "import pandas as pd\n",
    "import numpy as np\n",
    "import matplotlib.pyplot as plt"
   ]
  },
  {
   "cell_type": "markdown",
   "source": [
    "###### Let’s begin by looking at the summary of the variables, using the describe() function."
   ],
   "metadata": {
    "collapsed": false
   },
   "id": "70ff3a0d20255564"
  },
  {
   "cell_type": "code",
   "execution_count": null,
   "outputs": [],
   "source": [],
   "metadata": {
    "collapsed": false
   },
   "id": "ee55bc181a18a1dc"
  },
  {
   "cell_type": "code",
   "execution_count": 3,
   "outputs": [
    {
     "data": {
      "text/plain": "              Index  Height(Inches)  Weight(Pounds)\ncount  25000.000000    25000.000000    25000.000000\nmean   12500.500000       67.993114      127.079421\nstd     7217.022701        1.901679       11.660898\nmin        1.000000       60.278360       78.014760\n25%     6250.750000       66.704397      119.308675\n50%    12500.500000       67.995700      127.157750\n75%    18750.250000       69.272958      134.892850\nmax    25000.000000       75.152800      170.924000",
      "text/html": "<div>\n<style scoped>\n    .dataframe tbody tr th:only-of-type {\n        vertical-align: middle;\n    }\n\n    .dataframe tbody tr th {\n        vertical-align: top;\n    }\n\n    .dataframe thead th {\n        text-align: right;\n    }\n</style>\n<table border=\"1\" class=\"dataframe\">\n  <thead>\n    <tr style=\"text-align: right;\">\n      <th></th>\n      <th>Index</th>\n      <th>Height(Inches)</th>\n      <th>Weight(Pounds)</th>\n    </tr>\n  </thead>\n  <tbody>\n    <tr>\n      <th>count</th>\n      <td>25000.000000</td>\n      <td>25000.000000</td>\n      <td>25000.000000</td>\n    </tr>\n    <tr>\n      <th>mean</th>\n      <td>12500.500000</td>\n      <td>67.993114</td>\n      <td>127.079421</td>\n    </tr>\n    <tr>\n      <th>std</th>\n      <td>7217.022701</td>\n      <td>1.901679</td>\n      <td>11.660898</td>\n    </tr>\n    <tr>\n      <th>min</th>\n      <td>1.000000</td>\n      <td>60.278360</td>\n      <td>78.014760</td>\n    </tr>\n    <tr>\n      <th>25%</th>\n      <td>6250.750000</td>\n      <td>66.704397</td>\n      <td>119.308675</td>\n    </tr>\n    <tr>\n      <th>50%</th>\n      <td>12500.500000</td>\n      <td>67.995700</td>\n      <td>127.157750</td>\n    </tr>\n    <tr>\n      <th>75%</th>\n      <td>18750.250000</td>\n      <td>69.272958</td>\n      <td>134.892850</td>\n    </tr>\n    <tr>\n      <th>max</th>\n      <td>25000.000000</td>\n      <td>75.152800</td>\n      <td>170.924000</td>\n    </tr>\n  </tbody>\n</table>\n</div>"
     },
     "execution_count": 3,
     "metadata": {},
     "output_type": "execute_result"
    }
   ],
   "source": [
    "hw_df=pd.read_csv('HeightWeight.csv')\n",
    "hw_df.describe()"
   ],
   "metadata": {
    "collapsed": false,
    "ExecuteTime": {
     "end_time": "2024-02-14T13:01:02.260035800Z",
     "start_time": "2024-02-14T13:00:58.250469600Z"
    }
   },
   "id": "ae35a1b14564684f"
  },
  {
   "cell_type": "markdown",
   "source": [
    "###### The result shown above provides evidence that the numerical variables use distinct measurement systems and units, such as expressing \"Height\" in inches and \"Weight\" in pounds, respectively. These discrepancies might have an undue impact on the model; hence, it is necessary to standardize the range of all characteristics in order to ensure that each feature contributes in a manner that is nearly proportional to the others."
   ],
   "metadata": {
    "collapsed": false
   },
   "id": "c97482ef222b13e"
  },
  {
   "cell_type": "markdown",
   "source": [
    "# Min-Max Normalization\n",
    "###### This technique of rescaling, which is also known as min-max scaling, is the simplest and most straightforward approach. The range of characteristics to be scaled, which may be either [0, 1] or [1, 1]. The result is that we will have lower standard deviations, which will have the effect of reducing the significance of any outliers. The characteristics of the data should be taken into consideration while deciding on the target range. The following is the general formula for calculating a min-max of [0, 1]:"
   ],
   "metadata": {
    "collapsed": false
   },
   "id": "83c3bfaf7c8dad54"
  },
  {
   "cell_type": "code",
   "execution_count": null,
   "outputs": [],
   "source": [],
   "metadata": {
    "collapsed": false
   },
   "id": "fd3a5d4ece8c145b"
  },
  {
   "cell_type": "markdown",
   "source": [
    "[min-max](https://www.kaggle.com/code/mejbahahammad/min-max-normalization?scriptVersionId=105878434&cellId=9)"
   ],
   "metadata": {
    "collapsed": false
   },
   "id": "15e6955f59126afe"
  },
  {
   "cell_type": "markdown",
   "source": [
    "[min max arbitrary set of values](https://www.kaggle.com/code/mejbahahammad/min-max-normalization?scriptVersionId=105878434&cellId=11)"
   ],
   "metadata": {
    "collapsed": false
   },
   "id": "da4d0e02b2cf962b"
  },
  {
   "cell_type": "code",
   "execution_count": null,
   "outputs": [],
   "source": [],
   "metadata": {
    "collapsed": false
   },
   "id": "293f8aab2c87549f"
  },
  {
   "cell_type": "markdown",
   "source": [
    "###### In this tutorial, you will learn how to use the sklearn minmaxscaler function to carry out a Min-Max normalization on your own data. It does this by applying a scale to each characteristic, bringing them all into the same range."
   ],
   "metadata": {
    "collapsed": false
   },
   "id": "4c17e413f9b4a25d"
  },
  {
   "cell_type": "code",
   "execution_count": null,
   "outputs": [],
   "source": [],
   "metadata": {
    "collapsed": false
   },
   "id": "b3b1e1d3d1bb02d7"
  },
  {
   "cell_type": "code",
   "execution_count": 7,
   "outputs": [],
   "source": [
    "from sklearn.preprocessing import minmax_scale\n",
    "import pandas as pd\n",
    " \n",
    "hw_scaled = minmax_scale(hw_df[['Height(Inches)','Weight(Pounds)']], feature_range=(0,1))\n",
    " \n",
    "hw_df['Height(Norm)']=hw_scaled[:,0]\n",
    "hw_df['Weight(Norm)']=hw_scaled[:,1]"
   ],
   "metadata": {
    "collapsed": false,
    "ExecuteTime": {
     "end_time": "2024-02-14T13:20:44.453633300Z",
     "start_time": "2024-02-14T13:20:37.191326800Z"
    }
   },
   "id": "2c09985a01b997f9"
  },
  {
   "cell_type": "markdown",
   "source": [
    "###### This estimator scales and translates each feature individually such that it is in the given range on the training set, e.g. between zero and one."
   ],
   "metadata": {
    "collapsed": false
   },
   "id": "56fd05dc81b2bf19"
  },
  {
   "cell_type": "code",
   "execution_count": 8,
   "outputs": [
    {
     "data": {
      "text/plain": "              Index  Height(Inches)  Weight(Pounds)  Height(Norm)  \\\ncount  25000.000000    25000.000000    25000.000000  25000.000000   \nmean   12500.500000       67.993114      127.079421      0.518658   \nstd     7217.022701        1.901679       11.660898      0.127849   \nmin        1.000000       60.278360       78.014760      0.000000   \n25%     6250.750000       66.704397      119.308675      0.432019   \n50%    12500.500000       67.995700      127.157750      0.518832   \n75%    18750.250000       69.272958      134.892850      0.604702   \nmax    25000.000000       75.152800      170.924000      1.000000   \n\n       Weight(Norm)  \ncount  25000.000000  \nmean       0.528092  \nstd        0.125508  \nmin        0.000000  \n25%        0.444454  \n50%        0.528935  \n75%        0.612190  \nmax        1.000000  ",
      "text/html": "<div>\n<style scoped>\n    .dataframe tbody tr th:only-of-type {\n        vertical-align: middle;\n    }\n\n    .dataframe tbody tr th {\n        vertical-align: top;\n    }\n\n    .dataframe thead th {\n        text-align: right;\n    }\n</style>\n<table border=\"1\" class=\"dataframe\">\n  <thead>\n    <tr style=\"text-align: right;\">\n      <th></th>\n      <th>Index</th>\n      <th>Height(Inches)</th>\n      <th>Weight(Pounds)</th>\n      <th>Height(Norm)</th>\n      <th>Weight(Norm)</th>\n    </tr>\n  </thead>\n  <tbody>\n    <tr>\n      <th>count</th>\n      <td>25000.000000</td>\n      <td>25000.000000</td>\n      <td>25000.000000</td>\n      <td>25000.000000</td>\n      <td>25000.000000</td>\n    </tr>\n    <tr>\n      <th>mean</th>\n      <td>12500.500000</td>\n      <td>67.993114</td>\n      <td>127.079421</td>\n      <td>0.518658</td>\n      <td>0.528092</td>\n    </tr>\n    <tr>\n      <th>std</th>\n      <td>7217.022701</td>\n      <td>1.901679</td>\n      <td>11.660898</td>\n      <td>0.127849</td>\n      <td>0.125508</td>\n    </tr>\n    <tr>\n      <th>min</th>\n      <td>1.000000</td>\n      <td>60.278360</td>\n      <td>78.014760</td>\n      <td>0.000000</td>\n      <td>0.000000</td>\n    </tr>\n    <tr>\n      <th>25%</th>\n      <td>6250.750000</td>\n      <td>66.704397</td>\n      <td>119.308675</td>\n      <td>0.432019</td>\n      <td>0.444454</td>\n    </tr>\n    <tr>\n      <th>50%</th>\n      <td>12500.500000</td>\n      <td>67.995700</td>\n      <td>127.157750</td>\n      <td>0.518832</td>\n      <td>0.528935</td>\n    </tr>\n    <tr>\n      <th>75%</th>\n      <td>18750.250000</td>\n      <td>69.272958</td>\n      <td>134.892850</td>\n      <td>0.604702</td>\n      <td>0.612190</td>\n    </tr>\n    <tr>\n      <th>max</th>\n      <td>25000.000000</td>\n      <td>75.152800</td>\n      <td>170.924000</td>\n      <td>1.000000</td>\n      <td>1.000000</td>\n    </tr>\n  </tbody>\n</table>\n</div>"
     },
     "execution_count": 8,
     "metadata": {},
     "output_type": "execute_result"
    }
   ],
   "source": [
    "hw_df.describe()"
   ],
   "metadata": {
    "collapsed": false,
    "ExecuteTime": {
     "end_time": "2024-02-15T07:35:14.186887400Z",
     "start_time": "2024-02-15T07:35:13.240277300Z"
    }
   },
   "id": "b34513b256157a59"
  },
  {
   "cell_type": "markdown",
   "source": [
    "###### The output above shows that all the values ave been scaled between 0 and 1"
   ],
   "metadata": {
    "collapsed": false
   },
   "id": "928a1e367c2378af"
  },
  {
   "cell_type": "code",
   "execution_count": 10,
   "outputs": [
    {
     "data": {
      "text/plain": "<Figure size 1000x1000 with 0 Axes>"
     },
     "metadata": {},
     "output_type": "display_data"
    },
    {
     "data": {
      "text/plain": "<Figure size 640x480 with 4 Axes>",
      "image/png": "[encoded data removed]"
     },
     "metadata": {},
     "output_type": "display_data"
    }
   ],
   "source": [
    "plt.figure(figsize = (10, 10) )\n",
    "hw_df[['Height(Inches)','Height(Norm)','Weight(Pounds)','Weight(Norm)']].hist()\n",
    "plt.show()"
   ],
   "metadata": {
    "collapsed": false,
    "ExecuteTime": {
     "end_time": "2024-02-15T07:37:22.584426100Z",
     "start_time": "2024-02-15T07:37:20.758092300Z"
    }
   },
   "id": "dfd3dc2de91e197b"
  },
  {
   "cell_type": "code",
   "execution_count": null,
   "outputs": [],
   "source": [],
   "metadata": {
    "collapsed": false
   },
   "id": "9f1e30c274a0587c"
  }
 ],
 "metadata": {
  "kernelspec": {
   "display_name": "Python 3",
   "language": "python",
   "name": "python3"
  },
  "language_info": {
   "codemirror_mode": {
    "name": "ipython",
    "version": 2
   },
   "file_extension": ".py",
   "mimetype": "text/x-python",
   "name": "python",
   "nbconvert_exporter": "python",
   "pygments_lexer": "ipython2",
   "version": "2.7.6"
  }
 },
 "nbformat": 4,
 "nbformat_minor": 5
}
